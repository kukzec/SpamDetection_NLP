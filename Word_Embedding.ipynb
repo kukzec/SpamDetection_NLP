{
 "cells": [
  {
   "cell_type": "code",
   "execution_count": 55,
   "metadata": {},
   "outputs": [],
   "source": [
    "path = r'C:\\Users\\user\\Desktop\\NLP'"
   ]
  },
  {
   "cell_type": "code",
   "execution_count": 56,
   "metadata": {},
   "outputs": [],
   "source": [
    "import os\n",
    "import pickle\n",
    "import warnings\n",
    "warnings.filterwarnings('ignore')"
   ]
  },
  {
   "cell_type": "code",
   "execution_count": 57,
   "metadata": {},
   "outputs": [
    {
     "data": {
      "text/plain": [
       "'Using NLTK would have been interesting because it has some good pre-process functions like Stemming/Lemming. But in the case\\nof spam detection, Upper/Lower case are important because some SPAM are written in CAPSLOCK.'"
      ]
     },
     "execution_count": 57,
     "metadata": {},
     "output_type": "execute_result"
    }
   ],
   "source": [
    "# import nltk\n",
    "# nltk.download('stopwords')\n",
    "# nltk.download('punkt')\n",
    "# nltk.download('wordnet')\n",
    "\n",
    "from nltk.stem.snowball import EnglishStemmer\n",
    "\n",
    "'''Using NLTK would have been interesting because it has some good pre-process functions like Stemming/Lemming. But in the case\n",
    "of spam detection, Upper/Lower case are important because some SPAM are written in CAPSLOCK.'''"
   ]
  },
  {
   "cell_type": "code",
   "execution_count": 58,
   "metadata": {
    "scrolled": true
   },
   "outputs": [],
   "source": [
    "import numpy as np\n",
    "import pandas as pd\n",
    "\n",
    "import json\n",
    "\n",
    "import matplotlib.pyplot as plt\n",
    "\n",
    "import keras\n",
    "from keras.models import Model\n",
    "from keras.layers import LSTM, Activation, Dense, Dropout, Input, Embedding, Flatten\n",
    "from keras.optimizers import RMSprop\n",
    "from keras.preprocessing.text import Tokenizer\n",
    "from keras.preprocessing import sequence\n",
    "from keras.utils import to_categorical\n",
    "from keras.callbacks import EarlyStopping\n",
    "\n",
    "from sklearn.model_selection import train_test_split"
   ]
  },
  {
   "cell_type": "code",
   "execution_count": 38,
   "metadata": {},
   "outputs": [],
   "source": [
    "from functions import plot_history, stemmed_words"
   ]
  },
  {
   "cell_type": "code",
   "execution_count": 39,
   "metadata": {},
   "outputs": [
    {
     "data": {
      "text/plain": [
       "((4179,), (1393,))"
      ]
     },
     "execution_count": 39,
     "metadata": {},
     "output_type": "execute_result"
    }
   ],
   "source": [
    "with open('XY.data', 'rb') as f:\n",
    "    sentences_train, sentences_test, y_train, y_test = pickle.load(f)\n",
    "    \n",
    "sentences_train.shape, sentences_test.shape"
   ]
  },
  {
   "cell_type": "markdown",
   "metadata": {},
   "source": [
    "# **Word Embedding Model**"
   ]
  },
  {
   "cell_type": "markdown",
   "metadata": {},
   "source": [
    "### Process the data\n",
    "* **Note**: Pay close attention to the difference between this technique and the X_train that was produced by scikit-learn’s CountVectorizer.\n",
    "* With CountVectorizer, we had stacked vectors of word counts, and each vector was the same length (the size of the total corpus vocabulary). With Tokenizer, the resulting vectors equal the length of each text, and the numbers don’t denote counts, but rather correspond to the word values from the dictionary tokenizer.word_index."
   ]
  },
  {
   "cell_type": "code",
   "execution_count": 40,
   "metadata": {},
   "outputs": [
    {
     "name": "stdout",
     "output_type": "stream",
     "text": [
      "Hi darlin i cantdo anythingtomorrow as myparents aretaking me outfor a meal. when are u free? Katexxx\n",
      "[140, 8, 86, 11, 4, 48, 23, 10, 91]\n"
     ]
    }
   ],
   "source": [
    "from keras.preprocessing.text import Tokenizer\n",
    "\n",
    "tokenizer = Tokenizer(num_words=1000,\n",
    "                      filters='!\"#$%&()*+,-./:;<=>?@[\\\\]^_`{|}~\\t\\n', # Removing special characters as well as punctuation\n",
    "                      lower=False,                                    # Keep the distinct. bc it is important in Spam detection\n",
    "                      split=' ',                                      # \"Words are set of char splitted by a space\"\n",
    "                      char_level=False)                               # If True, every character will be treated as a token\n",
    "tokenizer.fit_on_texts(sentences_train)\n",
    "\n",
    "X_train = tokenizer.texts_to_sequences(sentences_train)\n",
    "X_test = tokenizer.texts_to_sequences(sentences_test)\n",
    "\n",
    "vocab_size = len(tokenizer.word_index) + 1  # Adding 1 because of reserved 0 index\n",
    "\n",
    "print(sentences_train[1])\n",
    "print(X_train[1])"
   ]
  },
  {
   "cell_type": "code",
   "execution_count": 41,
   "metadata": {},
   "outputs": [
    {
     "name": "stdout",
     "output_type": "stream",
     "text": [
      "Hi: 140\n",
      "hi: 396\n",
      "Hello: 336\n",
      "hello: 2142\n"
     ]
    }
   ],
   "source": [
    "for word in ['Hi', 'hi', 'Hello', 'hello']:\n",
    "    print('{}: {}'.format(word, tokenizer.word_index[word]))"
   ]
  },
  {
   "cell_type": "markdown",
   "metadata": {},
   "source": [
    "### Padding\n",
    "* One problem that we have is that each text sequence has in most cases different length of words. To counter this, you can use pad_sequence() which simply pads the sequence of words with zeros."
   ]
  },
  {
   "cell_type": "code",
   "execution_count": 42,
   "metadata": {},
   "outputs": [
    {
     "name": "stdout",
     "output_type": "stream",
     "text": [
      "[990   3  24 718 894   0   0   0   0   0   0   0   0   0   0   0   0   0\n",
      "   0   0   0   0   0   0   0   0   0   0   0   0   0   0   0   0   0   0\n",
      "   0   0   0   0   0   0   0   0   0   0   0   0   0   0   0   0   0   0\n",
      "   0   0   0   0   0   0   0   0   0   0   0   0   0   0   0   0   0   0\n",
      "   0   0   0   0   0   0   0   0   0   0   0   0   0   0   0   0   0   0\n",
      "   0   0   0   0   0   0   0   0   0   0   0   0   0   0   0   0   0   0\n",
      "   0   0   0   0   0   0   0   0   0   0   0   0   0   0   0   0   0   0\n",
      "   0   0   0   0   0   0   0   0   0   0   0   0   0   0   0   0   0   0\n",
      "   0   0   0   0   0   0]\n",
      "150\n"
     ]
    }
   ],
   "source": [
    "from keras.preprocessing.sequence import pad_sequences\n",
    "\n",
    "maxlen = 150\n",
    "\n",
    "X_train = pad_sequences(X_train, padding='post', maxlen=maxlen)\n",
    "X_test = pad_sequences(X_test, padding='post', maxlen=maxlen)\n",
    "\n",
    "print(X_train[0,:])\n",
    "print(len(X_train[0]))"
   ]
  },
  {
   "cell_type": "code",
   "execution_count": 51,
   "metadata": {},
   "outputs": [
    {
     "name": "stdout",
     "output_type": "stream",
     "text": [
      "Model: \"sequential_4\"\n",
      "_________________________________________________________________\n",
      "Layer (type)                 Output Shape              Param #   \n",
      "=================================================================\n",
      "embedding_13 (Embedding)     (None, 150, 50)           476700    \n",
      "_________________________________________________________________\n",
      "flatten_5 (Flatten)          (None, 7500)              0         \n",
      "_________________________________________________________________\n",
      "dense_23 (Dense)             (None, 10)                75010     \n",
      "_________________________________________________________________\n",
      "dense_24 (Dense)             (None, 1)                 11        \n",
      "=================================================================\n",
      "Total params: 551,721\n",
      "Trainable params: 551,721\n",
      "Non-trainable params: 0\n",
      "_________________________________________________________________\n"
     ]
    }
   ],
   "source": [
    "from keras.models import Sequential\n",
    "from keras import layers\n",
    "\n",
    "embedding_dim = 50\n",
    "\n",
    "def def_flat_NN():\n",
    "    inputs = Input(name='inputs', shape=[maxlen])\n",
    "    layer = Embedding(input_dim = vocab_size, \n",
    "                      output_dim = embedding_dim, \n",
    "                      input_length = maxlen)(inputs)\n",
    "    layer = Flatten()(layer)\n",
    "    layer = Dense(10, activation = 'relu')(layer)\n",
    "    layer = Dense(1, activation='sigmoid')(layer)\n",
    "    model = Model(inputs = inputs, outputs = layer)\n",
    "    return model\n",
    "\n",
    "model = def_flat_NN()\n",
    "model.compile(optimizer='adam',            # Adam optimization algorithm is an extension to stochastic gradient\n",
    "              loss='binary_crossentropy',  # Binary Classification SPAM/HAM\n",
    "              metrics=['accuracy'])        # Metrics we want to maximize\n",
    "model.summary()"
   ]
  },
  {
   "cell_type": "code",
   "execution_count": 52,
   "metadata": {},
   "outputs": [
    {
     "name": "stdout",
     "output_type": "stream",
     "text": [
      "Train on 3343 samples, validate on 836 samples\n",
      "Epoch 1/10\n",
      "3343/3343 [==============================] - 1s 165us/step - loss: 0.4069 - accuracy: 0.8445 - val_loss: 0.3507 - val_accuracy: 0.8612\n",
      "Epoch 2/10\n",
      "3343/3343 [==============================] - 0s 104us/step - loss: 0.2724 - accuracy: 0.8663 - val_loss: 0.2153 - val_accuracy: 0.8612\n",
      "Epoch 3/10\n",
      "3343/3343 [==============================] - 0s 103us/step - loss: 0.1679 - accuracy: 0.9040 - val_loss: 0.1681 - val_accuracy: 0.9569\n",
      "Epoch 4/10\n",
      "3343/3343 [==============================] - 0s 99us/step - loss: 0.1397 - accuracy: 0.9713 - val_loss: 0.1526 - val_accuracy: 0.9653\n",
      "Epoch 5/10\n",
      "3343/3343 [==============================] - 0s 103us/step - loss: 0.1256 - accuracy: 0.9791 - val_loss: 0.1441 - val_accuracy: 0.9701\n",
      "Epoch 6/10\n",
      "3343/3343 [==============================] - 0s 103us/step - loss: 0.1157 - accuracy: 0.9844 - val_loss: 0.1396 - val_accuracy: 0.9749\n",
      "Epoch 7/10\n",
      "3343/3343 [==============================] - 0s 103us/step - loss: 0.1087 - accuracy: 0.9877 - val_loss: 0.1354 - val_accuracy: 0.9785\n",
      "Epoch 8/10\n",
      "3343/3343 [==============================] - 0s 102us/step - loss: 0.1025 - accuracy: 0.9901 - val_loss: 0.1312 - val_accuracy: 0.9809\n",
      "Epoch 9/10\n",
      "3343/3343 [==============================] - 0s 102us/step - loss: 0.0981 - accuracy: 0.9931 - val_loss: 0.1289 - val_accuracy: 0.9833\n",
      "Epoch 10/10\n",
      "3343/3343 [==============================] - 0s 104us/step - loss: 0.0930 - accuracy: 0.9940 - val_loss: 0.1293 - val_accuracy: 0.9821\n"
     ]
    }
   ],
   "source": [
    "history = model.fit(X_train, y_train,\n",
    "                    epochs=10,\n",
    "                    verbose=True,\n",
    "                    validation_split = 0.2,\n",
    "                    batch_size=100)\n",
    "\n",
    "model.save('model.WE')"
   ]
  },
  {
   "cell_type": "code",
   "execution_count": 53,
   "metadata": {},
   "outputs": [
    {
     "name": "stdout",
     "output_type": "stream",
     "text": [
      "Training Accuracy: 0.9935\n",
      "Testing Accuracy:  0.9720\n"
     ]
    }
   ],
   "source": [
    "loss, accuracy = model.evaluate(X_train, y_train, verbose=False)\n",
    "print(\"Training Accuracy: {:.4f}\".format(accuracy))\n",
    "loss, accuracy = model.evaluate(X_test, y_test, verbose=False)\n",
    "print(\"Testing Accuracy:  {:.4f}\".format(accuracy))"
   ]
  },
  {
   "cell_type": "code",
   "execution_count": 54,
   "metadata": {},
   "outputs": [
    {
     "data": {
      "image/png": "[encoded data removed]",
      "text/plain": [
       "<Figure size 864x360 with 2 Axes>"
      ]
     },
     "metadata": {},
     "output_type": "display_data"
    }
   ],
   "source": [
    "plot_history(history)"
   ]
  },
  {
   "cell_type": "markdown",
   "metadata": {},
   "source": [
    "# **Testing with our Emails**"
   ]
  },
  {
   "cell_type": "code",
   "execution_count": 47,
   "metadata": {},
   "outputs": [],
   "source": [
    "modelWE = keras.models.load_model('model.WE')"
   ]
  },
  {
   "cell_type": "code",
   "execution_count": 48,
   "metadata": {},
   "outputs": [
    {
     "name": "stdout",
     "output_type": "stream",
     "text": [
      "SPAM [0.62228096] ['Please call our customer service representative on 0800 169 6031 between 10am-9pm as you have WON a guaranteed £1000 cash or £5000 prize!']\n"
     ]
    }
   ],
   "source": [
    "test = [\"Please call our customer service representative on 0800 169 6031 between 10am-9pm as you have WON a guaranteed £1000 cash or £5000 prize!\"]\n",
    "\n",
    "test_tok  = tokenizer.texts_to_sequences(test)\n",
    "test_tok = pad_sequences(test_tok, padding = 'post', maxlen=maxlen)\n",
    "sentiment = modelWE.predict(test_tok,batch_size=1,verbose = 2)[0]\n",
    "\n",
    "if sentiment > 0.5:\n",
    "    label = \"SPAM\"\n",
    "else:\n",
    "    label = \"HAM\"\n",
    "\n",
    "print(label, sentiment, test) "
   ]
  },
  {
   "cell_type": "markdown",
   "metadata": {},
   "source": [
    "# **LSTM - Long Short Term Memory**"
   ]
  },
  {
   "cell_type": "code",
   "execution_count": 50,
   "metadata": {},
   "outputs": [
    {
     "name": "stdout",
     "output_type": "stream",
     "text": [
      "Model: \"model_7\"\n",
      "_________________________________________________________________\n",
      "Layer (type)                 Output Shape              Param #   \n",
      "=================================================================\n",
      "inputs (InputLayer)          (None, 150)               0         \n",
      "_________________________________________________________________\n",
      "embedding_11 (Embedding)     (None, 150, 50)           50000     \n",
      "_________________________________________________________________\n",
      "lstm_7 (LSTM)                (None, 64)                29440     \n",
      "_________________________________________________________________\n",
      "dense_19 (Dense)             (None, 256)               16640     \n",
      "_________________________________________________________________\n",
      "activation_13 (Activation)   (None, 256)               0         \n",
      "_________________________________________________________________\n",
      "dropout_7 (Dropout)          (None, 256)               0         \n",
      "_________________________________________________________________\n",
      "dense_20 (Dense)             (None, 1)                 257       \n",
      "_________________________________________________________________\n",
      "activation_14 (Activation)   (None, 1)                 0         \n",
      "=================================================================\n",
      "Total params: 96,337\n",
      "Trainable params: 96,337\n",
      "Non-trainable params: 0\n",
      "_________________________________________________________________\n"
     ]
    }
   ],
   "source": [
    "\n",
    "\n",
    "maxlen = 150\n",
    "embedding_dim = 50\n",
    "\n",
    "def def_LSTM():\n",
    "    inputs = Input(name='inputs', shape=[maxlen])\n",
    "    layer = Embedding(input_dim = 1000, output_dim = embedding_dim, input_length = maxlen)(inputs)\n",
    "    layer = LSTM(64)(layer)\n",
    "    layer = Dense(256)(layer)\n",
    "    layer = Activation('relu')(layer)\n",
    "    layer = Dropout(0.5)(layer)\n",
    "    layer = Dense(1)(layer)\n",
    "    layer = Activation('sigmoid')(layer)\n",
    "    model = Model(inputs = inputs, outputs = layer)\n",
    "    return model\n",
    "\n",
    "model = def_LSTM()\n",
    "model.compile(optimizer='adam',            # Adam optimization algorithm is an extension to stochastic gradient\n",
    "              loss='binary_crossentropy',  # Binary Classification SPAM/HAM\n",
    "              metrics=['accuracy'])        # Metrics we want to maximize\n",
    "model.summary()"
   ]
  },
  {
   "cell_type": "code",
   "execution_count": 63,
   "metadata": {},
   "outputs": [
    {
     "name": "stdout",
     "output_type": "stream",
     "text": [
      "Train on 3343 samples, validate on 836 samples\n",
      "Epoch 1/10\n",
      "3343/3343 [==============================] - 0s 123us/step - loss: 0.0813 - accuracy: 0.9970 - val_loss: 0.0965 - val_accuracy: 0.9892\n",
      "Epoch 2/10\n",
      "3343/3343 [==============================] - 0s 83us/step - loss: 0.0790 - accuracy: 0.9973 - val_loss: 0.0940 - val_accuracy: 0.9904\n",
      "Epoch 3/10\n",
      "3343/3343 [==============================] - 0s 81us/step - loss: 0.0781 - accuracy: 0.9982 - val_loss: 0.0938 - val_accuracy: 0.9892\n",
      "Epoch 4/10\n",
      "3343/3343 [==============================] - 0s 82us/step - loss: 0.0762 - accuracy: 0.9985 - val_loss: 0.0935 - val_accuracy: 0.9856\n",
      "Epoch 5/10\n",
      "3343/3343 [==============================] - 0s 82us/step - loss: 0.0733 - accuracy: 0.9982 - val_loss: 0.0910 - val_accuracy: 0.9892\n",
      "Epoch 6/10\n",
      "3343/3343 [==============================] - 0s 82us/step - loss: 0.0716 - accuracy: 0.9988 - val_loss: 0.0914 - val_accuracy: 0.9892\n"
     ]
    }
   ],
   "source": [
    "history = model.fit(np.array(X_train), np.array(y_train),\n",
    "          epochs=10,\n",
    "          verbose=True,\n",
    "          validation_split = 0.2,\n",
    "          batch_size=128,\n",
    "          callbacks = [EarlyStopping(monitor = 'val_loss', min_delta = 0.0001)])\n",
    "\n",
    "model.save('model.WE_LSTM')"
   ]
  },
  {
   "cell_type": "code",
   "execution_count": 65,
   "metadata": {},
   "outputs": [
    {
     "name": "stdout",
     "output_type": "stream",
     "text": [
      "Training Accuracy: 0.9969\n",
      "Testing Accuracy:  0.9727\n"
     ]
    }
   ],
   "source": [
    "loss, accuracy = model.evaluate(X_train, y_train, verbose=False)\n",
    "print(\"Training Accuracy: {:.4f}\".format(accuracy))\n",
    "loss, accuracy = model.evaluate(X_test, y_test, verbose=False)\n",
    "print(\"Testing Accuracy:  {:.4f}\".format(accuracy))"
   ]
  },
  {
   "cell_type": "code",
   "execution_count": 66,
   "metadata": {},
   "outputs": [
    {
     "data": {
      "image/png": "[encoded data removed]",
      "text/plain": [
       "<Figure size 864x360 with 2 Axes>"
      ]
     },
     "metadata": {},
     "output_type": "display_data"
    }
   ],
   "source": [
    "plot_history(history)"
   ]
  },
  {
   "cell_type": "markdown",
   "metadata": {},
   "source": [
    "# **Testing with our Emails**"
   ]
  },
  {
   "cell_type": "code",
   "execution_count": 67,
   "metadata": {},
   "outputs": [],
   "source": [
    "modelWE_LSTM = keras.models.load_model('model.WE_LSTM')"
   ]
  },
  {
   "cell_type": "code",
   "execution_count": 68,
   "metadata": {},
   "outputs": [
    {
     "name": "stdout",
     "output_type": "stream",
     "text": [
      "SPAM [0.6084835] ['Please call our customer service representative on 0800 169 6031 between 10am-9pm as you have WON a guaranteed £1000 cash or £5000 prize!']\n"
     ]
    }
   ],
   "source": [
    "test = [\"Please call our customer service representative on 0800 169 6031 between 10am-9pm as you have WON a guaranteed £1000 cash or £5000 prize!\"]\n",
    "\n",
    "test_tok  = tokenizer.texts_to_sequences(test)\n",
    "test_tok = pad_sequences(test_tok, padding = 'post', maxlen=maxlen)\n",
    "sentiment = modelWE_LSTM.predict(test_tok,batch_size=1,verbose = 2)[0]\n",
    "\n",
    "if sentiment > 0.5:\n",
    "    label = \"SPAM\"\n",
    "else:\n",
    "    label = \"HAM\"\n",
    "\n",
    "print(label, sentiment, test) "
   ]
  },
  {
   "cell_type": "code",
   "execution_count": null,
   "metadata": {},
   "outputs": [],
   "source": []
  }
 ],
 "metadata": {
  "kernelspec": {
   "display_name": "Python 3",
   "language": "python",
   "name": "python3"
  },
  "language_info": {
   "codemirror_mode": {
    "name": "ipython",
    "version": 3
   },
   "file_extension": ".py",
   "mimetype": "text/x-python",
   "name": "python",
   "nbconvert_exporter": "python",
   "pygments_lexer": "ipython3",
   "version": "3.7.7"
  }
 },
 "nbformat": 4,
 "nbformat_minor": 4
}
