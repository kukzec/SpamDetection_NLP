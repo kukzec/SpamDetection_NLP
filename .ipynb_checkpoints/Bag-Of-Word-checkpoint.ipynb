{
 "cells": [
  {
   "cell_type": "code",
   "execution_count": 7,
   "metadata": {},
   "outputs": [],
   "source": [
    "path = r'C:\\Users\\user\\Desktop\\NLP'"
   ]
  },
  {
   "cell_type": "code",
   "execution_count": 8,
   "metadata": {},
   "outputs": [],
   "source": [
    "import os\n",
    "import pickle\n",
    "import warnings\n",
    "warnings.filterwarnings('ignore')"
   ]
  },
  {
   "cell_type": "code",
   "execution_count": 9,
   "metadata": {},
   "outputs": [
    {
     "data": {
      "text/plain": [
       "'Using NLTK would have been interesting because it has some good pre-process functions like Stemming/Lemming. But in the case\\nof spam detection, Upper/Lower case are important because some SPAM are written in CAPSLOCK.'"
      ]
     },
     "execution_count": 9,
     "metadata": {},
     "output_type": "execute_result"
    }
   ],
   "source": [
    "# import nltk\n",
    "# nltk.download('stopwords')\n",
    "# nltk.download('punkt')\n",
    "# nltk.download('wordnet')\n",
    "\n",
    "'''Using NLTK would have been interesting because it has some good pre-process functions like Stemming/Lemming. But in the case\n",
    "of spam detection, Upper/Lower case are important because some SPAM are written in CAPSLOCK.'''"
   ]
  },
  {
   "cell_type": "code",
   "execution_count": 10,
   "metadata": {},
   "outputs": [],
   "source": [
    "import numpy as np\n",
    "import pandas as pd\n",
    "\n",
    "import json\n",
    "\n",
    "import matplotlib.pyplot as plt\n",
    "\n",
    "import keras\n",
    "\n",
    "from sklearn.model_selection import train_test_split"
   ]
  },
  {
   "cell_type": "code",
   "execution_count": 11,
   "metadata": {},
   "outputs": [],
   "source": [
    "from functions import plot_history"
   ]
  },
  {
   "cell_type": "code",
   "execution_count": 12,
   "metadata": {},
   "outputs": [
    {
     "data": {
      "text/plain": [
       "((4179,), (1393,))"
      ]
     },
     "execution_count": 12,
     "metadata": {},
     "output_type": "execute_result"
    }
   ],
   "source": [
    "with open('XY.data', 'rb') as f:\n",
    "    sentences_train, sentences_test, y_train, y_test = pickle.load(f)\n",
    "    \n",
    "sentences_train.shape, sentences_test.shape"
   ]
  },
  {
   "cell_type": "code",
   "execution_count": 13,
   "metadata": {},
   "outputs": [],
   "source": [
    "from sklearn.feature_extraction.text import CountVectorizer\n",
    "\n",
    "vectorizer = CountVectorizer(stop_words = 'english')\n",
    "vectorizer.fit(sentences_train)\n",
    "\n",
    "X_train = vectorizer.transform(sentences_train)\n",
    "X_test  = vectorizer.transform(sentences_test)"
   ]
  },
  {
   "cell_type": "code",
   "execution_count": 14,
   "metadata": {},
   "outputs": [
    {
     "name": "stdout",
     "output_type": "stream",
     "text": [
      "WARNING:tensorflow:From c:\\users\\user\\appdata\\local\\programs\\python\\python37\\lib\\site-packages\\tensorflow\\python\\ops\\nn_impl.py:182: add_dispatch_support.<locals>.wrapper (from tensorflow.python.ops.array_ops) is deprecated and will be removed in a future version.\n",
      "Instructions for updating:\n",
      "Use tf.where in 2.0, which has the same broadcast rule as np.where\n",
      "Model: \"sequential_1\"\n",
      "_________________________________________________________________\n",
      "Layer (type)                 Output Shape              Param #   \n",
      "=================================================================\n",
      "dense_1 (Dense)              (None, 20)                143780    \n",
      "_________________________________________________________________\n",
      "dense_2 (Dense)              (None, 1)                 21        \n",
      "=================================================================\n",
      "Total params: 143,801\n",
      "Trainable params: 143,801\n",
      "Non-trainable params: 0\n",
      "_________________________________________________________________\n"
     ]
    }
   ],
   "source": [
    "from keras.models import Sequential\n",
    "from keras import layers\n",
    "\n",
    "input_dim = X_train.shape[1]  # Number of features\n",
    "\n",
    "model = Sequential()\n",
    "model.add(layers.Dense(20, input_dim=input_dim, activation='relu'))\n",
    "model.add(layers.Dense(1, activation='sigmoid'))\n",
    "\n",
    "model.compile(loss='binary_crossentropy', # Binary Classification SPAM/HAM\n",
    "              optimizer='adam',           # Adam optimization algorithm is an extension to stochastic gradient\n",
    "              metrics=['accuracy'])       # Metrics we want to maximize\n",
    "model.summary()"
   ]
  },
  {
   "cell_type": "code",
   "execution_count": 15,
   "metadata": {},
   "outputs": [
    {
     "name": "stdout",
     "output_type": "stream",
     "text": [
      "Train on 4179 samples, validate on 1393 samples\n",
      "Epoch 1/50\n",
      "4179/4179 [==============================] - 1s 126us/step - loss: 0.6218 - accuracy: 0.8887 - val_loss: 0.5330 - val_accuracy: 0.9734\n",
      "Epoch 2/50\n",
      "4179/4179 [==============================] - 0s 87us/step - loss: 0.4375 - accuracy: 0.9866 - val_loss: 0.3766 - val_accuracy: 0.9792\n",
      "Epoch 3/50\n",
      "4179/4179 [==============================] - 0s 88us/step - loss: 0.2967 - accuracy: 0.9914 - val_loss: 0.2719 - val_accuracy: 0.9799\n",
      "Epoch 4/50\n",
      "4179/4179 [==============================] - 0s 95us/step - loss: 0.2061 - accuracy: 0.9935 - val_loss: 0.2069 - val_accuracy: 0.9806\n",
      "Epoch 5/50\n",
      "4179/4179 [==============================] - 0s 93us/step - loss: 0.1491 - accuracy: 0.9943 - val_loss: 0.1655 - val_accuracy: 0.9806\n",
      "Epoch 6/50\n",
      "4179/4179 [==============================] - 0s 88us/step - loss: 0.1118 - accuracy: 0.9959 - val_loss: 0.1387 - val_accuracy: 0.9806\n",
      "Epoch 7/50\n",
      "4179/4179 [==============================] - 0s 90us/step - loss: 0.0866 - accuracy: 0.9969 - val_loss: 0.1207 - val_accuracy: 0.9799\n",
      "Epoch 8/50\n",
      "4179/4179 [==============================] - 0s 95us/step - loss: 0.0688 - accuracy: 0.9974 - val_loss: 0.1081 - val_accuracy: 0.9806\n",
      "Epoch 9/50\n",
      "4179/4179 [==============================] - 0s 91us/step - loss: 0.0559 - accuracy: 0.9976 - val_loss: 0.0991 - val_accuracy: 0.9806\n",
      "Epoch 10/50\n",
      "4179/4179 [==============================] - 0s 89us/step - loss: 0.0462 - accuracy: 0.9978 - val_loss: 0.0926 - val_accuracy: 0.9806\n",
      "Epoch 11/50\n",
      "4179/4179 [==============================] - 0s 94us/step - loss: 0.0387 - accuracy: 0.9983 - val_loss: 0.0879 - val_accuracy: 0.9806\n",
      "Epoch 12/50\n",
      "4179/4179 [==============================] - 0s 97us/step - loss: 0.0330 - accuracy: 0.9990 - val_loss: 0.0844 - val_accuracy: 0.9806\n",
      "Epoch 13/50\n",
      "4179/4179 [==============================] - 0s 88us/step - loss: 0.0284 - accuracy: 0.9990 - val_loss: 0.0817 - val_accuracy: 0.9806\n",
      "Epoch 14/50\n",
      "4179/4179 [==============================] - 0s 96us/step - loss: 0.0247 - accuracy: 0.9993 - val_loss: 0.0798 - val_accuracy: 0.9806\n",
      "Epoch 15/50\n",
      "4179/4179 [==============================] - 0s 88us/step - loss: 0.0217 - accuracy: 0.9993 - val_loss: 0.0784 - val_accuracy: 0.9799\n",
      "Epoch 16/50\n",
      "4179/4179 [==============================] - 0s 93us/step - loss: 0.0192 - accuracy: 0.9993 - val_loss: 0.0775 - val_accuracy: 0.9799\n",
      "Epoch 17/50\n",
      "4179/4179 [==============================] - 0s 96us/step - loss: 0.0172 - accuracy: 0.9993 - val_loss: 0.0769 - val_accuracy: 0.9799\n",
      "Epoch 18/50\n",
      "4179/4179 [==============================] - 0s 88us/step - loss: 0.0154 - accuracy: 0.9993 - val_loss: 0.0764 - val_accuracy: 0.9792\n",
      "Epoch 19/50\n",
      "4179/4179 [==============================] - 0s 89us/step - loss: 0.0139 - accuracy: 0.9993 - val_loss: 0.0763 - val_accuracy: 0.9792\n",
      "Epoch 20/50\n",
      "4179/4179 [==============================] - 0s 89us/step - loss: 0.0126 - accuracy: 0.9993 - val_loss: 0.0763 - val_accuracy: 0.9785\n",
      "Epoch 21/50\n",
      "4179/4179 [==============================] - 0s 87us/step - loss: 0.0114 - accuracy: 0.9993 - val_loss: 0.0762 - val_accuracy: 0.9785\n",
      "Epoch 22/50\n",
      "4179/4179 [==============================] - 0s 89us/step - loss: 0.0104 - accuracy: 0.9995 - val_loss: 0.0765 - val_accuracy: 0.9785\n",
      "Epoch 23/50\n",
      "4179/4179 [==============================] - 0s 89us/step - loss: 0.0096 - accuracy: 0.9995 - val_loss: 0.0767 - val_accuracy: 0.9785\n",
      "Epoch 24/50\n",
      "4179/4179 [==============================] - 0s 88us/step - loss: 0.0088 - accuracy: 0.9995 - val_loss: 0.0771 - val_accuracy: 0.9785\n",
      "Epoch 25/50\n",
      "4179/4179 [==============================] - 0s 89us/step - loss: 0.0081 - accuracy: 0.9995 - val_loss: 0.0775 - val_accuracy: 0.9785\n",
      "Epoch 26/50\n",
      "4179/4179 [==============================] - 0s 88us/step - loss: 0.0075 - accuracy: 0.9995 - val_loss: 0.0779 - val_accuracy: 0.9785\n",
      "Epoch 27/50\n",
      "4179/4179 [==============================] - 0s 85us/step - loss: 0.0070 - accuracy: 0.9995 - val_loss: 0.0784 - val_accuracy: 0.9785\n",
      "Epoch 28/50\n",
      "4179/4179 [==============================] - 0s 87us/step - loss: 0.0065 - accuracy: 0.9995 - val_loss: 0.0788 - val_accuracy: 0.9785\n",
      "Epoch 29/50\n",
      "4179/4179 [==============================] - 0s 93us/step - loss: 0.0061 - accuracy: 0.9995 - val_loss: 0.0793 - val_accuracy: 0.9785\n",
      "Epoch 30/50\n",
      "4179/4179 [==============================] - 0s 94us/step - loss: 0.0057 - accuracy: 0.9995 - val_loss: 0.0798 - val_accuracy: 0.9785\n",
      "Epoch 31/50\n",
      "4179/4179 [==============================] - 0s 89us/step - loss: 0.0053 - accuracy: 0.9995 - val_loss: 0.0805 - val_accuracy: 0.9785\n",
      "Epoch 32/50\n",
      "4179/4179 [==============================] - 0s 90us/step - loss: 0.0050 - accuracy: 0.9995 - val_loss: 0.0809 - val_accuracy: 0.9785\n",
      "Epoch 33/50\n",
      "4179/4179 [==============================] - 1s 156us/step - loss: 0.0047 - accuracy: 0.9995 - val_loss: 0.0815 - val_accuracy: 0.9785\n",
      "Epoch 34/50\n",
      "4179/4179 [==============================] - 1s 147us/step - loss: 0.0044 - accuracy: 0.9995 - val_loss: 0.0820 - val_accuracy: 0.9785\n",
      "Epoch 35/50\n",
      "4179/4179 [==============================] - 1s 151us/step - loss: 0.0041 - accuracy: 0.9995 - val_loss: 0.0827 - val_accuracy: 0.9770\n",
      "Epoch 36/50\n",
      "4179/4179 [==============================] - 1s 149us/step - loss: 0.0039 - accuracy: 0.9995 - val_loss: 0.0832 - val_accuracy: 0.9770\n",
      "Epoch 37/50\n",
      "4179/4179 [==============================] - 1s 153us/step - loss: 0.0037 - accuracy: 0.9995 - val_loss: 0.0840 - val_accuracy: 0.9770\n",
      "Epoch 38/50\n",
      "4179/4179 [==============================] - 1s 146us/step - loss: 0.0035 - accuracy: 0.9995 - val_loss: 0.0843 - val_accuracy: 0.9770\n",
      "Epoch 39/50\n",
      "4179/4179 [==============================] - 1s 147us/step - loss: 0.0033 - accuracy: 0.9995 - val_loss: 0.0849 - val_accuracy: 0.9770\n",
      "Epoch 40/50\n",
      "4179/4179 [==============================] - 1s 141us/step - loss: 0.0031 - accuracy: 0.9995 - val_loss: 0.0856 - val_accuracy: 0.9770\n",
      "Epoch 41/50\n",
      "4179/4179 [==============================] - 1s 148us/step - loss: 0.0030 - accuracy: 0.9995 - val_loss: 0.0861 - val_accuracy: 0.9770\n",
      "Epoch 42/50\n",
      "4179/4179 [==============================] - 1s 142us/step - loss: 0.0028 - accuracy: 0.9995 - val_loss: 0.0868 - val_accuracy: 0.9770\n",
      "Epoch 43/50\n",
      "4179/4179 [==============================] - 1s 145us/step - loss: 0.0027 - accuracy: 0.9995 - val_loss: 0.0873 - val_accuracy: 0.9770\n",
      "Epoch 44/50\n",
      "4179/4179 [==============================] - 1s 146us/step - loss: 0.0025 - accuracy: 0.9995 - val_loss: 0.0879 - val_accuracy: 0.9770\n",
      "Epoch 45/50\n",
      "4179/4179 [==============================] - 1s 150us/step - loss: 0.0024 - accuracy: 0.9998 - val_loss: 0.0885 - val_accuracy: 0.9770\n",
      "Epoch 46/50\n",
      "4179/4179 [==============================] - 1s 136us/step - loss: 0.0023 - accuracy: 0.9998 - val_loss: 0.0890 - val_accuracy: 0.9770\n",
      "Epoch 47/50\n",
      "4179/4179 [==============================] - 1s 145us/step - loss: 0.0022 - accuracy: 0.9998 - val_loss: 0.0897 - val_accuracy: 0.9770\n",
      "Epoch 48/50\n",
      "4179/4179 [==============================] - 1s 138us/step - loss: 0.0021 - accuracy: 0.9998 - val_loss: 0.0901 - val_accuracy: 0.9770\n",
      "Epoch 49/50\n",
      "4179/4179 [==============================] - 1s 145us/step - loss: 0.0020 - accuracy: 0.9998 - val_loss: 0.0908 - val_accuracy: 0.9770\n",
      "Epoch 50/50\n",
      "4179/4179 [==============================] - 1s 144us/step - loss: 0.0019 - accuracy: 0.9998 - val_loss: 0.0914 - val_accuracy: 0.9770\n"
     ]
    }
   ],
   "source": [
    "history = model.fit(X_train, y_train,\n",
    "                    epochs=50,\n",
    "                    verbose=True,\n",
    "                    validation_data=(X_test, y_test), # As we have a little dataset, our validation is our test set\n",
    "                    batch_size=100)                    # Little dataset, we can keep a low batch-size\n",
    "model.save('model.BOW')"
   ]
  },
  {
   "cell_type": "code",
   "execution_count": 16,
   "metadata": {},
   "outputs": [
    {
     "name": "stdout",
     "output_type": "stream",
     "text": [
      "Training Accuracy: 1.0000\n",
      "Testing Accuracy:  0.9770\n"
     ]
    }
   ],
   "source": [
    "loss, accuracy = model.evaluate(X_train, y_train, verbose=False)\n",
    "print(\"Training Accuracy: {:.4f}\".format(accuracy))\n",
    "loss, accuracy = model.evaluate(X_test, y_test, verbose=False)\n",
    "print(\"Testing Accuracy:  {:.4f}\".format(accuracy))"
   ]
  },
  {
   "cell_type": "code",
   "execution_count": 17,
   "metadata": {},
   "outputs": [
    {
     "data": {
      "image/png": "[encoded data removed]",
      "text/plain": [
       "<Figure size 864x360 with 2 Axes>"
      ]
     },
     "metadata": {},
     "output_type": "display_data"
    }
   ],
   "source": [
    "plot_history(history)"
   ]
  },
  {
   "cell_type": "markdown",
   "metadata": {},
   "source": [
    "# **Testing with our Emails**"
   ]
  },
  {
   "cell_type": "code",
   "execution_count": 18,
   "metadata": {},
   "outputs": [],
   "source": [
    "modelBOW = keras.models.load_model('model.BOW')"
   ]
  },
  {
   "cell_type": "code",
   "execution_count": 19,
   "metadata": {},
   "outputs": [
    {
     "name": "stdout",
     "output_type": "stream",
     "text": [
      "SPAM [0.99999917] ['Please call our customer service representative on 0800 169 6031 between 10am-9pm as you have WON a guaranteed £1000 cash or £5000 prize!']\n"
     ]
    }
   ],
   "source": [
    "test = [\"Please call our customer service representative on 0800 169 6031 between 10am-9pm as you have WON a guaranteed £1000 cash or £5000 prize!\"]\n",
    "\n",
    "test_tok  = vectorizer.transform(test)\n",
    "sentiment = modelBOW.predict(test_tok,batch_size=1,verbose = 2)[0]\n",
    "\n",
    "if sentiment > 0.5:\n",
    "    label = \"SPAM\"\n",
    "else:\n",
    "    label = \"HAM\"\n",
    "\n",
    "print(label, sentiment, test) "
   ]
  }
 ],
 "metadata": {
  "kernelspec": {
   "display_name": "Python 3",
   "language": "python",
   "name": "python3"
  },
  "language_info": {
   "codemirror_mode": {
    "name": "ipython",
    "version": 3
   },
   "file_extension": ".py",
   "mimetype": "text/x-python",
   "name": "python",
   "nbconvert_exporter": "python",
   "pygments_lexer": "ipython3",
   "version": "3.7.7"
  }
 },
 "nbformat": 4,
 "nbformat_minor": 4
}
