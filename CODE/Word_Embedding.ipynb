{
 "cells": [
  {
   "cell_type": "code",
   "execution_count": 1,
   "metadata": {},
   "outputs": [],
   "source": [
    "path = r'C:\\Users\\user\\Desktop\\NLP'"
   ]
  },
  {
   "cell_type": "code",
   "execution_count": 2,
   "metadata": {},
   "outputs": [],
   "source": [
    "import os\n",
    "import pickle\n",
    "import warnings\n",
    "warnings.filterwarnings('ignore')"
   ]
  },
  {
   "cell_type": "code",
   "execution_count": 3,
   "metadata": {},
   "outputs": [
    {
     "data": {
      "text/plain": [
       "'Using NLTK would have been interesting because it has some good pre-process functions like Stemming/Lemming. But in the case\\nof spam detection, Upper/Lower case are important because some SPAM are written in CAPSLOCK.'"
      ]
     },
     "execution_count": 3,
     "metadata": {},
     "output_type": "execute_result"
    }
   ],
   "source": [
    "# import nltk\n",
    "# nltk.download('stopwords')\n",
    "# nltk.download('punkt')\n",
    "# nltk.download('wordnet')\n",
    "\n",
    "'''Using NLTK would have been interesting because it has some good pre-process functions like Stemming/Lemming. But in the case\n",
    "of spam detection, Upper/Lower case are important because some SPAM are written in CAPSLOCK.'''"
   ]
  },
  {
   "cell_type": "code",
   "execution_count": 4,
   "metadata": {
    "scrolled": true
   },
   "outputs": [
    {
     "name": "stderr",
     "output_type": "stream",
     "text": [
      "Using TensorFlow backend.\n"
     ]
    }
   ],
   "source": [
    "import numpy as np\n",
    "import pandas as pd\n",
    "\n",
    "import json\n",
    "\n",
    "import matplotlib.pyplot as plt\n",
    "\n",
    "import keras\n",
    "\n",
    "from sklearn.model_selection import train_test_split"
   ]
  },
  {
   "cell_type": "code",
   "execution_count": 5,
   "metadata": {},
   "outputs": [],
   "source": [
    "from functions import plot_history"
   ]
  },
  {
   "cell_type": "code",
   "execution_count": 6,
   "metadata": {},
   "outputs": [
    {
     "data": {
      "text/plain": [
       "((4179,), (1393,))"
      ]
     },
     "execution_count": 6,
     "metadata": {},
     "output_type": "execute_result"
    }
   ],
   "source": [
    "with open('XY.data', 'rb') as f:\n",
    "    sentences_train, sentences_test, y_train, y_test = pickle.load(f)\n",
    "    \n",
    "sentences_train.shape, sentences_test.shape"
   ]
  },
  {
   "cell_type": "markdown",
   "metadata": {},
   "source": [
    "# **Word Embedding Model**"
   ]
  },
  {
   "cell_type": "code",
   "execution_count": 7,
   "metadata": {},
   "outputs": [
    {
     "name": "stdout",
     "output_type": "stream",
     "text": [
      "Hi darlin i cantdo anythingtomorrow as myparents aretaking me outfor a meal. when are u free? Katexxx\n",
      "[140, 1360, 8, 4456, 4457, 86, 4458, 4459, 11, 4460, 4, 1790, 48, 23, 10, 91, 4461]\n"
     ]
    }
   ],
   "source": [
    "from keras.preprocessing.text import Tokenizer\n",
    "\n",
    "tokenizer = Tokenizer(num_words=None,\n",
    "                      filters='!\"#$%&()*+,-./:;<=>?@[\\\\]^_`{|}~\\t\\n', # Removing special characters as well as punctuation\n",
    "                      lower=False,                                    # Keep the distinct. bc it is important in Spam detection\n",
    "                      split=' ',                                      # \"Words are set of char splitted by a space\"\n",
    "                      char_level=False)                               # If True, every character will be treated as a token\n",
    "tokenizer.fit_on_texts(sentences_train)\n",
    "\n",
    "X_train = tokenizer.texts_to_sequences(sentences_train)\n",
    "X_test = tokenizer.texts_to_sequences(sentences_test)\n",
    "\n",
    "vocab_size = len(tokenizer.word_index) + 1  # Adding 1 because of reserved 0 index\n",
    "\n",
    "print(sentences_train[1])\n",
    "print(X_train[1])"
   ]
  },
  {
   "cell_type": "code",
   "execution_count": 8,
   "metadata": {},
   "outputs": [
    {
     "name": "stdout",
     "output_type": "stream",
     "text": [
      "Hi: 140\n",
      "hi: 396\n",
      "Hello: 336\n",
      "There: 1289\n"
     ]
    }
   ],
   "source": [
    "for word in ['Hi', 'hi', 'Hello', 'There']:\n",
    "    print('{}: {}'.format(word, tokenizer.word_index[word]))\n",
    "    \n",
    "# Note: Pay close attention to the difference between this technique and \n",
    "# the X_train that was produced by scikit-learn’s CountVectorizer.\n",
    "\n",
    "# With CountVectorizer, we had stacked vectors of word counts, and each vector was the\n",
    "# same length (the size of the total corpus vocabulary). With Tokenizer, the resulting\n",
    "# vectors equal the length of each text, and the numbers don’t denote counts, but rather\n",
    "# correspond to the word values from the dictionary tokenizer.word_index."
   ]
  },
  {
   "cell_type": "code",
   "execution_count": 9,
   "metadata": {},
   "outputs": [
    {
     "name": "stdout",
     "output_type": "stream",
     "text": [
      "[2210 1359 4447  990 4448 4449 4450    3 4451   24 4452 4453 4454  718\n",
      " 4455  894    0    0    0    0    0    0    0    0    0    0    0    0\n",
      "    0    0    0    0    0    0    0    0    0    0    0    0    0    0\n",
      "    0    0    0    0    0    0    0    0    0    0    0    0    0    0\n",
      "    0    0    0    0    0    0    0    0    0    0    0    0    0    0\n",
      "    0    0    0    0    0    0    0    0    0    0    0    0    0    0\n",
      "    0    0    0    0    0    0    0    0    0    0    0    0    0    0\n",
      "    0    0]\n",
      "100\n"
     ]
    }
   ],
   "source": [
    "# One problem that we have is that each text sequence has in most cases different length of words.\n",
    "# To counter this, you can use pad_sequence() which simply pads the sequence of words with zeros.\n",
    "\n",
    "from keras.preprocessing.sequence import pad_sequences\n",
    "\n",
    "maxlen = 100\n",
    "\n",
    "X_train = pad_sequences(X_train, padding='post', maxlen=maxlen)\n",
    "X_test = pad_sequences(X_test, padding='post', maxlen=maxlen)\n",
    "\n",
    "print(X_train[0,:])\n",
    "print(len(X_train[0]))"
   ]
  },
  {
   "cell_type": "code",
   "execution_count": 10,
   "metadata": {},
   "outputs": [
    {
     "name": "stdout",
     "output_type": "stream",
     "text": [
      "WARNING:tensorflow:From c:\\users\\user\\appdata\\local\\programs\\python\\python37\\lib\\site-packages\\tensorflow\\python\\ops\\nn_impl.py:182: add_dispatch_support.<locals>.wrapper (from tensorflow.python.ops.array_ops) is deprecated and will be removed in a future version.\n",
      "Instructions for updating:\n",
      "Use tf.where in 2.0, which has the same broadcast rule as np.where\n",
      "Model: \"sequential_1\"\n",
      "_________________________________________________________________\n",
      "Layer (type)                 Output Shape              Param #   \n",
      "=================================================================\n",
      "embedding_1 (Embedding)      (None, 100, 150)          1430100   \n",
      "_________________________________________________________________\n",
      "flatten_1 (Flatten)          (None, 15000)             0         \n",
      "_________________________________________________________________\n",
      "dense_1 (Dense)              (None, 10)                150010    \n",
      "_________________________________________________________________\n",
      "dense_2 (Dense)              (None, 1)                 11        \n",
      "=================================================================\n",
      "Total params: 1,580,121\n",
      "Trainable params: 1,580,121\n",
      "Non-trainable params: 0\n",
      "_________________________________________________________________\n"
     ]
    }
   ],
   "source": [
    "from keras.models import Sequential\n",
    "from keras import layers\n",
    "\n",
    "embedding_dim = 150\n",
    "\n",
    "model = Sequential()\n",
    "model.add(layers.Embedding(input_dim=vocab_size, \n",
    "                           output_dim=embedding_dim, \n",
    "                           input_length=maxlen))\n",
    "model.add(layers.Flatten())\n",
    "model.add(layers.Dense(10, activation='relu'))\n",
    "model.add(layers.Dense(1, activation='sigmoid'))\n",
    "model.compile(optimizer='adam',            # Adam optimization algorithm is an extension to stochastic gradient\n",
    "              loss='binary_crossentropy',  # Binary Classification SPAM/HAM\n",
    "              metrics=['accuracy'])        # Metrics we want to maximize\n",
    "model.summary()"
   ]
  },
  {
   "cell_type": "code",
   "execution_count": 11,
   "metadata": {},
   "outputs": [
    {
     "name": "stdout",
     "output_type": "stream",
     "text": [
      "Train on 4179 samples, validate on 1393 samples\n",
      "Epoch 1/20\n",
      "4179/4179 [==============================] - 1s 349us/step - loss: 0.3349 - accuracy: 0.8531 - val_loss: 0.2198 - val_accuracy: 0.8679\n",
      "Epoch 2/20\n",
      "4179/4179 [==============================] - 1s 272us/step - loss: 0.1518 - accuracy: 0.9277 - val_loss: 0.1735 - val_accuracy: 0.9497\n",
      "Epoch 3/20\n",
      "4179/4179 [==============================] - 1s 282us/step - loss: 0.1176 - accuracy: 0.9864 - val_loss: 0.1551 - val_accuracy: 0.9591\n",
      "Epoch 4/20\n",
      "4179/4179 [==============================] - 1s 275us/step - loss: 0.1024 - accuracy: 0.9921 - val_loss: 0.1561 - val_accuracy: 0.9620\n",
      "Epoch 5/20\n",
      "4179/4179 [==============================] - 1s 271us/step - loss: 0.0940 - accuracy: 0.9957 - val_loss: 0.1444 - val_accuracy: 0.9677\n",
      "Epoch 6/20\n",
      "4179/4179 [==============================] - 1s 261us/step - loss: 0.0882 - accuracy: 0.9978 - val_loss: 0.1518 - val_accuracy: 0.9634\n",
      "Epoch 7/20\n",
      "4179/4179 [==============================] - 1s 277us/step - loss: 0.0844 - accuracy: 0.9983 - val_loss: 0.1588 - val_accuracy: 0.9634\n",
      "Epoch 8/20\n",
      "4179/4179 [==============================] - 1s 273us/step - loss: 0.0813 - accuracy: 0.9995 - val_loss: 0.1676 - val_accuracy: 0.9598\n",
      "Epoch 9/20\n",
      "4179/4179 [==============================] - 1s 265us/step - loss: 0.0789 - accuracy: 0.9993 - val_loss: 0.1619 - val_accuracy: 0.9641\n",
      "Epoch 10/20\n",
      "4179/4179 [==============================] - 1s 260us/step - loss: 0.0763 - accuracy: 0.9998 - val_loss: 0.1675 - val_accuracy: 0.9612\n",
      "Epoch 11/20\n",
      "4179/4179 [==============================] - 1s 239us/step - loss: 0.0741 - accuracy: 0.9995 - val_loss: 0.1611 - val_accuracy: 0.9648\n",
      "Epoch 12/20\n",
      "4179/4179 [==============================] - 1s 240us/step - loss: 0.0719 - accuracy: 0.9998 - val_loss: 0.1665 - val_accuracy: 0.9634\n",
      "Epoch 13/20\n",
      "4179/4179 [==============================] - 1s 231us/step - loss: 0.0697 - accuracy: 0.9998 - val_loss: 0.1699 - val_accuracy: 0.9620\n",
      "Epoch 14/20\n",
      "4179/4179 [==============================] - 1s 234us/step - loss: 0.0677 - accuracy: 0.9998 - val_loss: 0.1623 - val_accuracy: 0.9655\n",
      "Epoch 15/20\n",
      "4179/4179 [==============================] - 1s 232us/step - loss: 0.0657 - accuracy: 1.0000 - val_loss: 0.1660 - val_accuracy: 0.9648\n",
      "Epoch 16/20\n",
      "4179/4179 [==============================] - 1s 239us/step - loss: 0.0639 - accuracy: 1.0000 - val_loss: 0.1682 - val_accuracy: 0.9641\n",
      "Epoch 17/20\n",
      "4179/4179 [==============================] - 1s 234us/step - loss: 0.0621 - accuracy: 1.0000 - val_loss: 0.1711 - val_accuracy: 0.9620\n",
      "Epoch 18/20\n",
      "4179/4179 [==============================] - 1s 236us/step - loss: 0.0604 - accuracy: 1.0000 - val_loss: 0.1656 - val_accuracy: 0.9655\n",
      "Epoch 19/20\n",
      "4179/4179 [==============================] - 1s 229us/step - loss: 0.0587 - accuracy: 1.0000 - val_loss: 0.1753 - val_accuracy: 0.9591\n",
      "Epoch 20/20\n",
      "4179/4179 [==============================] - 1s 212us/step - loss: 0.0571 - accuracy: 1.0000 - val_loss: 0.1597 - val_accuracy: 0.9698\n"
     ]
    }
   ],
   "source": [
    "history = model.fit(X_train, y_train,\n",
    "                    epochs=20,\n",
    "                    verbose=True,\n",
    "                    validation_data=(X_test, y_test),\n",
    "                    batch_size=100)\n",
    "\n",
    "model.save('model.WE')"
   ]
  },
  {
   "cell_type": "code",
   "execution_count": 12,
   "metadata": {},
   "outputs": [
    {
     "name": "stdout",
     "output_type": "stream",
     "text": [
      "Training Accuracy: 1.0000\n",
      "Testing Accuracy:  0.9698\n"
     ]
    }
   ],
   "source": [
    "loss, accuracy = model.evaluate(X_train, y_train, verbose=False)\n",
    "print(\"Training Accuracy: {:.4f}\".format(accuracy))\n",
    "loss, accuracy = model.evaluate(X_test, y_test, verbose=False)\n",
    "print(\"Testing Accuracy:  {:.4f}\".format(accuracy))"
   ]
  },
  {
   "cell_type": "code",
   "execution_count": 13,
   "metadata": {},
   "outputs": [
    {
     "data": {
      "image/png": "[encoded data removed]",
      "text/plain": [
       "<Figure size 864x360 with 2 Axes>"
      ]
     },
     "metadata": {},
     "output_type": "display_data"
    }
   ],
   "source": [
    "plot_history(history)"
   ]
  },
  {
   "cell_type": "markdown",
   "metadata": {},
   "source": [
    "# **Testing with our Emails**"
   ]
  },
  {
   "cell_type": "code",
   "execution_count": 14,
   "metadata": {},
   "outputs": [],
   "source": [
    "modelWE = keras.models.load_model('model.WE')"
   ]
  },
  {
   "cell_type": "code",
   "execution_count": 15,
   "metadata": {},
   "outputs": [
    {
     "name": "stdout",
     "output_type": "stream",
     "text": [
      "SPAM [0.6590948] ['Please call our customer service representative on 0800 169 6031 between 10am-9pm as you have WON a guaranteed £1000 cash or £5000 prize!']\n"
     ]
    }
   ],
   "source": [
    "test = [\"Please call our customer service representative on 0800 169 6031 between 10am-9pm as you have WON a guaranteed £1000 cash or £5000 prize!\"]\n",
    "\n",
    "test_tok  = tokenizer.texts_to_sequences(test)\n",
    "test_tok = pad_sequences(test_tok, padding = 'post', maxlen=maxlen)\n",
    "sentiment = modelWE.predict(test_tok,batch_size=1,verbose = 2)[0]\n",
    "\n",
    "if sentiment > 0.5:\n",
    "    label = \"SPAM\"\n",
    "else:\n",
    "    label = \"HAM\"\n",
    "\n",
    "print(label, sentiment, test) "
   ]
  },
  {
   "cell_type": "markdown",
   "metadata": {},
   "source": [
    "# **LSTM - Long Short Term Memory**"
   ]
  },
  {
   "cell_type": "code",
   "execution_count": 16,
   "metadata": {},
   "outputs": [
    {
     "name": "stdout",
     "output_type": "stream",
     "text": [
      "Model: \"sequential_2\"\n",
      "_________________________________________________________________\n",
      "Layer (type)                 Output Shape              Param #   \n",
      "=================================================================\n",
      "embedding_2 (Embedding)      (None, 100, 150)          1430100   \n",
      "_________________________________________________________________\n",
      "lstm_1 (LSTM)                (None, 100)               100400    \n",
      "_________________________________________________________________\n",
      "dense_3 (Dense)              (None, 1)                 101       \n",
      "=================================================================\n",
      "Total params: 1,530,601\n",
      "Trainable params: 1,530,601\n",
      "Non-trainable params: 0\n",
      "_________________________________________________________________\n",
      "None\n"
     ]
    }
   ],
   "source": [
    "from keras.models import Sequential\n",
    "from keras.layers import Dense\n",
    "from keras.layers import LSTM\n",
    "from keras.layers.embeddings import Embedding\n",
    "from keras.preprocessing import sequence\n",
    "\n",
    "model = Sequential()\n",
    "# Turns positive integers (indexes) into dense vectors of fixed size. eg. [[4], [20]] -> [[0.25, 0.1], [0.6, -0.2]] // This layer can only be used as the first layer in a model.\n",
    "model.add(layers.Embedding(input_dim=vocab_size, \n",
    "                           output_dim=embedding_dim, \n",
    "                           input_length=maxlen))\n",
    "model.add(LSTM(100))\n",
    "model.add(Dense(1, activation='sigmoid'))\n",
    "model.compile(loss='binary_crossentropy',  # Binary Classification SPAM/HAM\n",
    "              optimizer='adam',            # Adam optimization algorithm is an extension to stochastic gradient\n",
    "              metrics=['accuracy'])        # Metrics we want to maximize\n",
    "print(model.summary())"
   ]
  },
  {
   "cell_type": "code",
   "execution_count": 17,
   "metadata": {},
   "outputs": [
    {
     "name": "stdout",
     "output_type": "stream",
     "text": [
      "Train on 4179 samples, validate on 1393 samples\n",
      "Epoch 1/50\n",
      "4179/4179 [==============================] - 7s 2ms/step - loss: 0.4463 - accuracy: 0.8457 - val_loss: 0.3919 - val_accuracy: 0.8679\n",
      "Epoch 2/50\n",
      "4179/4179 [==============================] - 6s 1ms/step - loss: 0.3966 - accuracy: 0.8653 - val_loss: 0.3912 - val_accuracy: 0.8679\n",
      "Epoch 3/50\n",
      "4179/4179 [==============================] - 6s 1ms/step - loss: 0.3965 - accuracy: 0.8653 - val_loss: 0.3907 - val_accuracy: 0.8679\n",
      "Epoch 4/50\n",
      "4179/4179 [==============================] - 7s 2ms/step - loss: 0.3963 - accuracy: 0.8653 - val_loss: 0.3904 - val_accuracy: 0.8679\n",
      "Epoch 5/50\n",
      "4179/4179 [==============================] - 7s 2ms/step - loss: 0.3965 - accuracy: 0.8653 - val_loss: 0.3938 - val_accuracy: 0.8679\n",
      "Epoch 6/50\n",
      "4179/4179 [==============================] - 7s 2ms/step - loss: 0.3964 - accuracy: 0.8653 - val_loss: 0.3906 - val_accuracy: 0.8679\n",
      "Epoch 7/50\n",
      "4179/4179 [==============================] - 7s 2ms/step - loss: 0.3966 - accuracy: 0.8653 - val_loss: 0.3908 - val_accuracy: 0.8679\n",
      "Epoch 8/50\n",
      "4179/4179 [==============================] - 7s 2ms/step - loss: 0.3958 - accuracy: 0.8653 - val_loss: 0.3905 - val_accuracy: 0.8679\n",
      "Epoch 9/50\n",
      "4179/4179 [==============================] - 7s 2ms/step - loss: 0.3957 - accuracy: 0.8653 - val_loss: 0.3907 - val_accuracy: 0.8679\n",
      "Epoch 10/50\n",
      "4179/4179 [==============================] - 7s 2ms/step - loss: 0.3965 - accuracy: 0.8653 - val_loss: 0.3918 - val_accuracy: 0.8679\n",
      "Epoch 11/50\n",
      "4179/4179 [==============================] - 7s 2ms/step - loss: 0.3973 - accuracy: 0.8653 - val_loss: 0.3917 - val_accuracy: 0.8679\n",
      "Epoch 12/50\n",
      "4179/4179 [==============================] - 7s 2ms/step - loss: 0.3958 - accuracy: 0.8653 - val_loss: 0.3906 - val_accuracy: 0.8679\n",
      "Epoch 13/50\n",
      "4179/4179 [==============================] - 7s 2ms/step - loss: 0.3960 - accuracy: 0.8653 - val_loss: 0.3903 - val_accuracy: 0.8679\n",
      "Epoch 14/50\n",
      "4179/4179 [==============================] - 7s 2ms/step - loss: 0.3963 - accuracy: 0.8653 - val_loss: 0.3906 - val_accuracy: 0.8679\n",
      "Epoch 15/50\n",
      "4179/4179 [==============================] - 7s 2ms/step - loss: 0.3957 - accuracy: 0.8653 - val_loss: 0.3903 - val_accuracy: 0.8679\n",
      "Epoch 16/50\n",
      "4179/4179 [==============================] - 7s 2ms/step - loss: 0.3959 - accuracy: 0.8653 - val_loss: 0.3903 - val_accuracy: 0.8679\n",
      "Epoch 17/50\n",
      "4179/4179 [==============================] - 7s 2ms/step - loss: 0.3954 - accuracy: 0.8653 - val_loss: 0.3918 - val_accuracy: 0.8679\n",
      "Epoch 18/50\n",
      "4179/4179 [==============================] - 7s 2ms/step - loss: 0.3962 - accuracy: 0.8653 - val_loss: 0.3914 - val_accuracy: 0.8679\n",
      "Epoch 19/50\n",
      "4179/4179 [==============================] - 7s 2ms/step - loss: 0.3958 - accuracy: 0.8653 - val_loss: 0.3903 - val_accuracy: 0.8679\n",
      "Epoch 20/50\n",
      "4179/4179 [==============================] - 7s 2ms/step - loss: 0.3962 - accuracy: 0.8653 - val_loss: 0.3905 - val_accuracy: 0.8679\n",
      "Epoch 21/50\n",
      "4179/4179 [==============================] - 7s 2ms/step - loss: 0.3959 - accuracy: 0.8653 - val_loss: 0.3908 - val_accuracy: 0.8679\n",
      "Epoch 22/50\n",
      "4179/4179 [==============================] - 7s 2ms/step - loss: 0.3959 - accuracy: 0.8653 - val_loss: 0.3903 - val_accuracy: 0.8679\n",
      "Epoch 23/50\n",
      "4179/4179 [==============================] - 7s 2ms/step - loss: 0.3955 - accuracy: 0.8653 - val_loss: 0.3917 - val_accuracy: 0.8679\n",
      "Epoch 24/50\n",
      "4179/4179 [==============================] - 7s 2ms/step - loss: 0.3972 - accuracy: 0.8653 - val_loss: 0.3905 - val_accuracy: 0.8679\n",
      "Epoch 25/50\n",
      "4179/4179 [==============================] - 7s 2ms/step - loss: 0.3964 - accuracy: 0.8653 - val_loss: 0.3911 - val_accuracy: 0.8679\n",
      "Epoch 26/50\n",
      "4179/4179 [==============================] - 7s 2ms/step - loss: 0.3968 - accuracy: 0.8653 - val_loss: 0.3903 - val_accuracy: 0.8679\n",
      "Epoch 27/50\n",
      "4179/4179 [==============================] - 7s 2ms/step - loss: 0.3954 - accuracy: 0.8653 - val_loss: 0.3904 - val_accuracy: 0.8679\n",
      "Epoch 28/50\n",
      "4179/4179 [==============================] - 7s 2ms/step - loss: 0.3956 - accuracy: 0.8653 - val_loss: 0.3908 - val_accuracy: 0.8679\n",
      "Epoch 29/50\n",
      "4179/4179 [==============================] - 7s 2ms/step - loss: 0.3959 - accuracy: 0.8653 - val_loss: 0.3906 - val_accuracy: 0.8679\n",
      "Epoch 30/50\n",
      "4179/4179 [==============================] - 7s 2ms/step - loss: 0.3956 - accuracy: 0.8653 - val_loss: 0.3938 - val_accuracy: 0.8679\n",
      "Epoch 31/50\n",
      "4179/4179 [==============================] - 7s 2ms/step - loss: 0.3955 - accuracy: 0.8653 - val_loss: 0.3906 - val_accuracy: 0.8679\n",
      "Epoch 32/50\n",
      "4179/4179 [==============================] - 7s 2ms/step - loss: 0.3954 - accuracy: 0.8653 - val_loss: 0.3917 - val_accuracy: 0.8679\n",
      "Epoch 33/50\n",
      "4179/4179 [==============================] - 7s 2ms/step - loss: 0.3958 - accuracy: 0.8653 - val_loss: 0.3905 - val_accuracy: 0.8679\n",
      "Epoch 34/50\n",
      "4179/4179 [==============================] - 7s 2ms/step - loss: 0.3960 - accuracy: 0.8653 - val_loss: 0.3903 - val_accuracy: 0.8679\n",
      "Epoch 35/50\n",
      "4179/4179 [==============================] - 7s 2ms/step - loss: 0.3960 - accuracy: 0.8653 - val_loss: 0.3903 - val_accuracy: 0.8679\n",
      "Epoch 36/50\n",
      "4179/4179 [==============================] - 7s 2ms/step - loss: 0.3971 - accuracy: 0.8653 - val_loss: 0.3903 - val_accuracy: 0.8679\n",
      "Epoch 37/50\n",
      "4179/4179 [==============================] - 7s 2ms/step - loss: 0.3959 - accuracy: 0.8653 - val_loss: 0.3903 - val_accuracy: 0.8679\n",
      "Epoch 38/50\n",
      "4179/4179 [==============================] - 7s 2ms/step - loss: 0.3955 - accuracy: 0.8653 - val_loss: 0.3908 - val_accuracy: 0.8679\n",
      "Epoch 39/50\n",
      "4179/4179 [==============================] - 7s 2ms/step - loss: 0.3952 - accuracy: 0.8653 - val_loss: 0.3928 - val_accuracy: 0.8679\n",
      "Epoch 40/50\n",
      "4179/4179 [==============================] - 7s 2ms/step - loss: 0.3961 - accuracy: 0.8653 - val_loss: 0.3903 - val_accuracy: 0.8679\n",
      "Epoch 41/50\n",
      "4179/4179 [==============================] - 7s 2ms/step - loss: 0.3955 - accuracy: 0.8653 - val_loss: 0.3908 - val_accuracy: 0.8679\n",
      "Epoch 42/50\n",
      "4179/4179 [==============================] - 7s 2ms/step - loss: 0.3956 - accuracy: 0.8653 - val_loss: 0.3904 - val_accuracy: 0.8679\n",
      "Epoch 43/50\n",
      "4179/4179 [==============================] - 7s 2ms/step - loss: 0.3956 - accuracy: 0.8653 - val_loss: 0.3906 - val_accuracy: 0.8679\n",
      "Epoch 44/50\n",
      "4179/4179 [==============================] - 7s 2ms/step - loss: 0.3956 - accuracy: 0.8653 - val_loss: 0.3903 - val_accuracy: 0.8679\n",
      "Epoch 45/50\n",
      "4179/4179 [==============================] - 7s 2ms/step - loss: 0.3954 - accuracy: 0.8653 - val_loss: 0.3907 - val_accuracy: 0.8679\n",
      "Epoch 46/50\n",
      "4179/4179 [==============================] - 7s 2ms/step - loss: 0.3952 - accuracy: 0.8653 - val_loss: 0.3905 - val_accuracy: 0.8679\n",
      "Epoch 47/50\n",
      "4179/4179 [==============================] - 7s 2ms/step - loss: 0.3953 - accuracy: 0.8653 - val_loss: 0.3913 - val_accuracy: 0.8679\n",
      "Epoch 48/50\n",
      "4179/4179 [==============================] - 8s 2ms/step - loss: 0.3962 - accuracy: 0.8653 - val_loss: 0.3908 - val_accuracy: 0.8679\n",
      "Epoch 49/50\n",
      "4179/4179 [==============================] - 7s 2ms/step - loss: 0.3955 - accuracy: 0.8653 - val_loss: 0.3903 - val_accuracy: 0.8679\n",
      "Epoch 50/50\n",
      "4179/4179 [==============================] - 7s 2ms/step - loss: 0.3954 - accuracy: 0.8653 - val_loss: 0.3905 - val_accuracy: 0.8679\n"
     ]
    }
   ],
   "source": [
    "history = model.fit(X_train, y_train,\n",
    "          epochs=50,\n",
    "          verbose=True,\n",
    "          validation_data=(X_test,y_test),\n",
    "          batch_size=100)\n",
    "\n",
    "model.save('model.WE_LSTM')"
   ]
  },
  {
   "cell_type": "code",
   "execution_count": 18,
   "metadata": {},
   "outputs": [
    {
     "name": "stdout",
     "output_type": "stream",
     "text": [
      "Training Accuracy: 0.8653\n",
      "Testing Accuracy:  0.8679\n"
     ]
    }
   ],
   "source": [
    "loss, accuracy = model.evaluate(X_train, y_train, verbose=False)\n",
    "print(\"Training Accuracy: {:.4f}\".format(accuracy))\n",
    "loss, accuracy = model.evaluate(X_test, y_test, verbose=False)\n",
    "print(\"Testing Accuracy:  {:.4f}\".format(accuracy))"
   ]
  },
  {
   "cell_type": "code",
   "execution_count": 19,
   "metadata": {},
   "outputs": [
    {
     "data": {
      "image/png": "[encoded data removed]",
      "text/plain": [
       "<Figure size 864x360 with 2 Axes>"
      ]
     },
     "metadata": {},
     "output_type": "display_data"
    }
   ],
   "source": [
    "plot_history(history)"
   ]
  },
  {
   "cell_type": "markdown",
   "metadata": {},
   "source": [
    "# **Testing with our Emails**"
   ]
  },
  {
   "cell_type": "code",
   "execution_count": 20,
   "metadata": {},
   "outputs": [],
   "source": [
    "modelWE_LSTM = keras.models.load_model('model.WE_LSTM')"
   ]
  },
  {
   "cell_type": "code",
   "execution_count": 21,
   "metadata": {},
   "outputs": [
    {
     "name": "stdout",
     "output_type": "stream",
     "text": [
      "HAM [0.13962346] ['Please call our customer service representative on 0800 169 6031 between 10am-9pm as you have WON a guaranteed £1000 cash or £5000 prize!']\n"
     ]
    }
   ],
   "source": [
    "test = [\"Please call our customer service representative on 0800 169 6031 between 10am-9pm as you have WON a guaranteed £1000 cash or £5000 prize!\"]\n",
    "\n",
    "test_tok  = tokenizer.texts_to_sequences(test)\n",
    "test_tok = pad_sequences(test_tok, padding = 'post', maxlen=maxlen)\n",
    "sentiment = modelWE_LSTM.predict(test_tok,batch_size=1,verbose = 2)[0]\n",
    "\n",
    "if sentiment > 0.5:\n",
    "    label = \"SPAM\"\n",
    "else:\n",
    "    label = \"HAM\"\n",
    "\n",
    "print(label, sentiment, test) "
   ]
  },
  {
   "cell_type": "code",
   "execution_count": null,
   "metadata": {},
   "outputs": [],
   "source": []
  }
 ],
 "metadata": {
  "kernelspec": {
   "display_name": "Python 3",
   "language": "python",
   "name": "python3"
  },
  "language_info": {
   "codemirror_mode": {
    "name": "ipython",
    "version": 3
   },
   "file_extension": ".py",
   "mimetype": "text/x-python",
   "name": "python",
   "nbconvert_exporter": "python",
   "pygments_lexer": "ipython3",
   "version": "3.7.7"
  }
 },
 "nbformat": 4,
 "nbformat_minor": 4
}
