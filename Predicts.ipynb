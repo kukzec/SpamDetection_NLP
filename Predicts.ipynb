{
 "cells": [
  {
   "cell_type": "markdown",
   "metadata": {},
   "source": [
    "# Import the necessary packages"
   ]
  },
  {
   "cell_type": "code",
   "execution_count": 1,
   "metadata": {},
   "outputs": [
    {
     "name": "stderr",
     "output_type": "stream",
     "text": [
      "Using TensorFlow backend.\n"
     ]
    }
   ],
   "source": [
    "import warnings\n",
    "warnings.filterwarnings('ignore')\n",
    "\n",
    "import pickle\n",
    "\n",
    "import numpy as np\n",
    "\n",
    "from sklearn.feature_extraction.text import CountVectorizer\n",
    "\n",
    "import keras\n",
    "from keras.preprocessing.text import Tokenizer\n",
    "from keras.preprocessing.sequence import pad_sequences"
   ]
  },
  {
   "cell_type": "markdown",
   "metadata": {},
   "source": [
    "## Get all 3 models"
   ]
  },
  {
   "cell_type": "code",
   "execution_count": null,
   "metadata": {
    "scrolled": true
   },
   "outputs": [],
   "source": [
    "modelBoW  = keras.models.load_model('h5df/model.BOW')\n",
    "modelWE   = keras.models.load_model('h5df/model.WE')\n",
    "modelLSTM = keras.models.load_model('h5df/model.WE_LSTM')"
   ]
  },
  {
   "cell_type": "markdown",
   "metadata": {},
   "source": [
    "### Test with one or more examples!\n",
    "* Simply put your mail inside the **generated_text** variable between **double quote**\n",
    "* Then use the predict function and specify which model you want to use in order to get your prediction\n",
    "* For instance, there are 3 models available: modelBoW, modelWE, modelLSTM"
   ]
  },
  {
   "cell_type": "code",
   "execution_count": 3,
   "metadata": {},
   "outputs": [],
   "source": [
    "generated_text = [\"You just won free tickets ! call us FREE\",\n",
    "                  \"I don't feel that good today, do you think we can report our call ?\",\n",
    "                  \"Do you think you will be able to come to my party tonight ?\",\n",
    "                  \"gz! congratulation! sms YES on 54233 to win, free\",\n",
    "                  \"Your 2004 account for 07XXXXXXXXX shows 786\",\n",
    "                  \"complimentary c UR awarded a trip to EuroDisin Trav Urgent\"]"
   ]
  },
  {
   "cell_type": "code",
   "execution_count": 4,
   "metadata": {},
   "outputs": [],
   "source": [
    "def predict(model, generated_text = generated_text, maxlen=150):\n",
    "    with open('pickle/XY.data', 'rb') as f:\n",
    "        sentences_train, sentences_test, y_train, y_test = pickle.load(f)\n",
    "    if model == modelLSTM:\n",
    "        tokenizer = Tokenizer(num_words=1000,\n",
    "                      filters='!\"#$%&()*+,-./:;<=>?@[\\\\]^_`{|}~\\t\\n', \n",
    "                      lower=True,                                    \n",
    "                      split=' ',                                      \n",
    "                      char_level=False)                               \n",
    "        tokenizer.fit_on_texts(sentences_train)\n",
    "\n",
    "        txts = tokenizer.texts_to_sequences(generated_text)\n",
    "        txts = pad_sequences(txts, maxlen=maxlen)\n",
    "        preds = modelLSTM.predict(txts)\n",
    "        generated_text = np.array(generated_text)\n",
    "        generated_text = generated_text[:, None]\n",
    "        for pred in preds:\n",
    "            if pred > 0.5:\n",
    "                label = \"SPAM\"\n",
    "            else: label = \"HAM\"\n",
    "        \n",
    "        results = np.concatenate((preds,generated_text), axis=1)\n",
    "        print(results)\n",
    "        \n",
    "    elif model == modelBoW:\n",
    "        vectorizer = CountVectorizer(stop_words = 'english', lowercase = True)\n",
    "        vectorizer.fit(sentences_train)\n",
    "\n",
    "        \n",
    "        txts = vectorizer.transform(generated_text)\n",
    "        preds = modelBoW.predict(txts)\n",
    "        generated_text = np.array(generated_text)\n",
    "        generated_text = generated_text[:, None]\n",
    "        for pred in preds:\n",
    "            if pred > 0.5:\n",
    "                label = \"SPAM\"\n",
    "            else: label = \"HAM\"\n",
    "        \n",
    "        results = np.concatenate((preds,generated_text), axis=1)\n",
    "        return(results)\n",
    "    \n",
    "    elif model == modelWE:\n",
    "        tokenizer = Tokenizer(num_words=1000,\n",
    "                      filters='!\"#$%&()*+,-./:;<=>?@[\\\\]^_`{|}~\\t\\n',\n",
    "                      lower=True,                                   \n",
    "                      split=' ',                                      \n",
    "                      char_level=False)                               \n",
    "        tokenizer.fit_on_texts(sentences_train)\n",
    "\n",
    "        txts = tokenizer.texts_to_sequences(generated_text)\n",
    "        txts = pad_sequences(txts, maxlen=maxlen)\n",
    "        preds = modelWE.predict(txts)\n",
    "        generated_text = np.array(generated_text)\n",
    "        generated_text = generated_text[:, None]\n",
    "        for pred in preds:\n",
    "            if pred > 0.5:\n",
    "                label = \"SPAM\"\n",
    "            else: label = \"HAM\"\n",
    "        \n",
    "        results = np.concatenate((preds,generated_text), axis=1)\n",
    "        return(results)\n",
    "        "
   ]
  },
  {
   "cell_type": "code",
   "execution_count": 5,
   "metadata": {},
   "outputs": [
    {
     "name": "stdout",
     "output_type": "stream",
     "text": [
      "[['0.8749161' 'You just won free tickets ! call us FREE']\n",
      " ['0.0007192903'\n",
      "  \"I don't feel that good today, do you think we can report our call ?\"]\n",
      " ['0.00044878424'\n",
      "  'Do you think you will be able to come to my party tonight ?']\n",
      " ['0.611833' 'gz! congratulation! sms YES on 54233 to win, free']\n",
      " ['0.057145834' 'Your 2004 account for 07XXXXXXXXX shows 786']\n",
      " ['0.9603834'\n",
      "  'complimentary c UR awarded a trip to EuroDisin Trav Urgent']]\n"
     ]
    }
   ],
   "source": [
    "predict(modelLSTM, generated_text)"
   ]
  },
  {
   "cell_type": "markdown",
   "metadata": {},
   "source": [
    "### Results\n",
    "According to the predictions of our generated text, it seems like our model did the job (**pretty well**).\n",
    "Indeed, we need to take into account the fact that we had only 5000 observations to train our mode.\n",
    "\n",
    "An extension would have been to use pre-trained model in order to get better results (BERT, Word2Vec and so on...) or to generate more data ourselves."
   ]
  }
 ],
 "metadata": {
  "kernelspec": {
   "display_name": "Python 3",
   "language": "python",
   "name": "python3"
  },
  "language_info": {
   "codemirror_mode": {
    "name": "ipython",
    "version": 3
   },
   "file_extension": ".py",
   "mimetype": "text/x-python",
   "name": "python",
   "nbconvert_exporter": "python",
   "pygments_lexer": "ipython3",
   "version": "3.7.7"
  }
 },
 "nbformat": 4,
 "nbformat_minor": 4
}
